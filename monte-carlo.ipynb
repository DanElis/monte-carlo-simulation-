{
 "cells": [
  {
   "cell_type": "code",
   "execution_count": 1,
   "metadata": {},
   "outputs": [],
   "source": [
    "from scipy.stats import levy_stable\n",
    "import matplotlib.pyplot as plt\n",
    "import numpy as np"
   ]
  },
  {
   "cell_type": "markdown",
   "metadata": {},
   "source": [
    "$$r^1_i = {P_{i+1} \\over P_i} - 1$$\n",
    "\n",
    "$$P_i = {P_{i+1} \\over r^1_i+1}$$\n",
    "\n",
    "$$r^{10}_i = {P_{i+10} \\over P_i} - 1 = {P_{i+10}(1 + r^1_i) \\over P_{i+1}} - 1 = ... =  (1 + r^1_i)(1 + r^1_{i+1})...(1 + r^1_{i+9}) - 1$$\n"
   ]
  },
  {
   "cell_type": "code",
   "execution_count": 2,
   "metadata": {},
   "outputs": [],
   "source": [
    "alpha=1.7\n",
    "beta=0.\n",
    "loc=1.0\n",
    "scale=1.0\n",
    "size=750"
   ]
  },
  {
   "cell_type": "code",
   "execution_count": 18,
   "metadata": {},
   "outputs": [],
   "source": [
    "def calculate_r10(i,r):\n",
    "    res = 1\n",
    "    for j in range(10):\n",
    "        res *= r[i+j]+1\n",
    "    return res-1"
   ]
  },
  {
   "cell_type": "code",
   "execution_count": 19,
   "metadata": {},
   "outputs": [
    {
     "data": {
      "text/plain": [
       "-56596.99798385186"
      ]
     },
     "execution_count": 19,
     "metadata": {},
     "output_type": "execute_result"
    }
   ],
   "source": [
    "r = levy_stable.rvs(alpha=alpha, beta=beta,loc=loc,scale=scale,size=size)\n",
    "r_10 = [calculate_r10(i,r) for i in range(size-10)]\n",
    "res=np.quantile(r_10,0.01)\n",
    "res"
   ]
  },
  {
   "cell_type": "code",
   "execution_count": null,
   "metadata": {},
   "outputs": [],
   "source": []
  }
 ],
 "metadata": {
  "kernelspec": {
   "display_name": "Python 3",
   "language": "python",
   "name": "python3"
  },
  "language_info": {
   "codemirror_mode": {
    "name": "ipython",
    "version": 3
   },
   "file_extension": ".py",
   "mimetype": "text/x-python",
   "name": "python",
   "nbconvert_exporter": "python",
   "pygments_lexer": "ipython3",
   "version": "3.7.3"
  }
 },
 "nbformat": 4,
 "nbformat_minor": 2
}
